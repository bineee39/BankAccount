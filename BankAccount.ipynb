{
  "nbformat": 4,
  "nbformat_minor": 0,
  "metadata": {
    "colab": {
      "provenance": []
    },
    "kernelspec": {
      "name": "python3",
      "display_name": "Python 3"
    },
    "language_info": {
      "name": "python"
    }
  },
  "cells": [
    {
      "cell_type": "code",
      "execution_count": null,
      "metadata": {
        "id": "QpfJvU40O22X"
      },
      "outputs": [],
      "source": [
        "# [QUEST 03: 은행계좌 만들기]\n",
        "\n",
        "# 조건:\n",
        "# Account 클래스\n",
        "# 은행이름, 예금주, 계좌번호, 잔액 설정\n",
        "# 은행이름은 '모두은행'\n",
        "# 계좌번호는 3자리-2자리-6자리 형태로 랜덤하게 생성\n",
        "# 클래스 변수를 사용해서 Account 클래스로부터 생성된 계좌\n",
        "# 객체의 개수 저장\n",
        "\n",
        "# 입금 메서드\n",
        "# 입금은 최소 1원 이상만 가능\n",
        "# 입금 횟수가 5회가 될 때 잔고 기준으로 1% 이자 지급\n",
        "# 입금 내역 기록\n",
        "\n",
        "# 출금 메서드\n",
        "# 출금은 계좌의 잔고 이상으로 할 수 없음\n",
        "# 출금 내역 기록\n",
        "\n",
        "# get_account_num() 메서드\n",
        "# Account 클래스로부터 생성된 계좌 개수 출력\n",
        "\n",
        "# history() 메서드\n",
        "# 입금 내역과 출금 내역을 출력"
      ]
    },
    {
      "cell_type": "code",
      "source": [
        "# 말로, 한국어로 문제 이해 및 입력-처리-출력 흐름 잡기\n",
        "# 노가다로 코드 구현(for/while 등)(함수 def -> 클래스 class 사용)\n",
        "# 파이써닉 코드로 리팩토링"
      ],
      "metadata": {
        "id": "vKQI76D8TVOj"
      },
      "execution_count": null,
      "outputs": []
    },
    {
      "cell_type": "code",
      "source": [
        "import random\n",
        "\n",
        "# 계좌번호 생성 함수 정의\n",
        "def gen_account_num():\n",
        "  a = str(random.randint(0, 999)).zfill(3) # 앞에 3자리 맞춰서 랜덤으로 채워주기\n",
        "  b = str(random.randint(0, 99)).zfill(2) # 앞에 2자리 맞춰서 랜덤으로 채워주기\n",
        "  c = str(random.randint(0, 999999)).zfill(6) # 앞에 6자리 맞춰서 랜덤으로 채워주기\n",
        "  return f\"{a}-{b}-{c}\""
      ],
      "metadata": {
        "id": "-_kqFCu4dTof"
      },
      "execution_count": 4,
      "outputs": []
    },
    {
      "cell_type": "code",
      "source": [
        "# 계좌번호 생성 함수 호출 및 작동 테스트\n",
        "print(gen_account_num())"
      ],
      "metadata": {
        "colab": {
          "base_uri": "https://localhost:8080/"
        },
        "id": "47ZUa5LTdgjZ",
        "outputId": "41e83080-52af-43b7-a997-416df83bb469"
      },
      "execution_count": 5,
      "outputs": [
        {
          "output_type": "stream",
          "name": "stdout",
          "text": [
            "155-50-252406\n"
          ]
        }
      ]
    },
    {
      "cell_type": "code",
      "source": [
        "# 은행이름('모두은행'), 예금주, 계좌번호, 잔액 설정\n",
        "def make_account(owner=\"조은별\", bank=\"모두은행\", init_money=0):\n",
        "  account = {}\n",
        "  account[\"bank\"] = bank # 은행을 계좌마다 개별 저장\n",
        "  account[\"owner\"] = owner # 예금주를 계좌마다 개별 저장\n",
        "  account[\"account_num\"] = gen_account_num() # 앞에서 만든 거 호출해서 계좌번호 부여\n",
        "  account[\"money\"] = int(init_money) # 잔액을 계좌마다 개별 저장\n",
        "  account[\"add_money_count\"] = 0 # 입금 횟수 카운트\n",
        "  account[\"history\"] = [] # 거래내역\n",
        "  return account"
      ],
      "metadata": {
        "id": "vW5mXxrfezTp"
      },
      "execution_count": 10,
      "outputs": []
    },
    {
      "cell_type": "code",
      "source": [
        "# 설정 함수 테스트\n",
        "print(make_account())"
      ],
      "metadata": {
        "colab": {
          "base_uri": "https://localhost:8080/"
        },
        "id": "pqckxAcxfEXO",
        "outputId": "5fe2fb2d-7876-4827-8160-0dc1ab580e38"
      },
      "execution_count": 11,
      "outputs": [
        {
          "output_type": "stream",
          "name": "stdout",
          "text": [
            "{'bank': '모두은행', 'owner': '조은별', 'account_num': '318-65-549164', 'money': 0, 'add_money_count': 0, 'history': []}\n"
          ]
        }
      ]
    },
    {
      "cell_type": "code",
      "source": [
        "# Account 클래스\n",
        "# 은행이름, 예금주, 계좌번호, 잔액 설정\n",
        "# 은행이름은 '모두은행'\n",
        "# 계좌번호는 3자리-2자리-6자리 형태로 랜덤하게 생성\n",
        "# 클래스 변수를 사용해서 Account 클래스로부터 생성된 계좌\n",
        "# 객체의 개수 저장\n",
        "\n",
        "import random\n",
        "from datetime import datetime\n",
        "\n",
        "class Account:\n",
        "  _count = 0\n",
        "\n",
        "  # 계좌번호 생성\n",
        "  @staticmethod\n",
        "  def _gen_account_num():\n",
        "    a = str(random.randint(0, 999)).zfill(3) # 앞에 3자리 맞춰서 랜덤으로 채워주기\n",
        "    b = str(random.randint(0, 99)).zfill(2) # 앞에 2자리 맞춰서 랜덤으로 채워주기\n",
        "    c = str(random.randint(0, 999999)).zfill(6) # 앞에 6자리 맞춰서 랜덤으로 채워주기\n",
        "    return f\"{a}-{b}-{c}\"\n",
        "\n",
        "  # 은행이름('모두은행'), 예금주, 계좌번호, 잔액 설정\n",
        "  def __init__(self, owner, bank=\"모두은행\", init_money=0):\n",
        "    self.bank = bank # 은행을 계좌마다 개별 저장\n",
        "    self.owner = owner # 예금주를 계좌마다 개별 저장\n",
        "    self.account_num = Account._gen_account_num() # 앞에서 만든 거 호출해서 계좌번호 부여\n",
        "    self.money = int(init_money) # 잔액을 계좌마다 개별 저장\n",
        "\n",
        "    self.add_money_count = 0 # 입금 횟수 카운트\n",
        "    self._history = [] # 거래내역(시간, 종류, 금액, 거래 후 잔액)\n",
        "\n",
        "    Account._count += 1 # 계좌 수 증가\n",
        "\n",
        "# get_account_num() 메서드\n",
        "# Account 클래스로부터 생성된 계좌 개수 출력\n",
        "\n",
        "  @classmethod # 현재 생성된 계좌 개수\n",
        "  def get_account_num(cls):\n",
        "    return cls._count\n",
        "\n",
        "  def _record(self, kind, amount): # 내부 기록 함수\n",
        "    time = datetime.now().strftime(\"%Y-%m-%d %H:%M:%S\")\n",
        "    self._history.append((time, kind, int(amount), self.money))\n",
        "\n",
        "# 입금 메서드\n",
        "# 입금은 최소 1원 이상만 가능\n",
        "# 입금 횟수가 5회가 될 때 잔고 기준으로 1% 이자 지급\n",
        "# 입금 내역 기록\n",
        "\n",
        "  def add_money(self, amount): # 입금\n",
        "    amount = int(amount)\n",
        "    if amount < 1:\n",
        "      raise ValueError(\"입금 금액은 1 이상이어야 합니다.\")\n",
        "    self.money += amount\n",
        "    self.add_money_count += 1\n",
        "    self._record(\"입금\", amount)\n",
        "\n",
        "    if self.add_money_count % 5 == 0: # 이자\n",
        "      interest = round(self.money * 0.01)\n",
        "      self.money += interest\n",
        "      self._record(\"이자(1%)\", interest)\n",
        "\n",
        "# 출금 메서드\n",
        "# 출금은 계좌의 잔고 이상으로 할 수 없음\n",
        "# 출금 내역 기록\n",
        "\n",
        "  def minus_money(self, amount): # 출금\n",
        "    amount = int(amount)\n",
        "    if amount > self.money:\n",
        "      raise ValueError(\"잔액보다 많이 출금할 수 없습니다.\")\n",
        "    self.money -= amount\n",
        "    self._record(\"출금\", amount)\n",
        "\n",
        "# history() 메서드\n",
        "# 입금 내역과 출금 내역을 출력\n",
        "\n",
        "  def history(self): # 거래내역(시간, 종류, 금액, 거래 후 잔액)\n",
        "    for time, kind, amt, money in self._history:\n",
        "      print(f\"{time} | {kind:12} | {amt:>8,d} | 잔액 {money:>10,d}원\")\n",
        "\n",
        "  def print_summary(self): # 내역 요약 출력\n",
        "    return f\"[{self.bank}] {self.owner} / {self.account_num} / 잔액 {self.money:,}원\""
      ],
      "metadata": {
        "id": "yeHaLxakUGSk"
      },
      "execution_count": 30,
      "outputs": []
    },
    {
      "cell_type": "code",
      "source": [
        "# 예금주 '조은별', 초기 잔액 1000원으로 계좌 생성\n",
        "acc1 = Account(owner=\"조은별\", init_money=1000)\n",
        "\n",
        "# 요약 정보 확인\n",
        "print(acc1.print_summary())\n",
        "\n",
        "acc1.add_money(500)   # 500원 입금\n",
        "print(acc1.money)     # 현재 잔액 확인\n",
        "\n",
        "acc1.add_money(1000)  # 1000원 입금\n",
        "print(acc1.money)     # 현재 잔액 확인\n",
        "\n",
        "acc1.minus_money(200)   # 200원 출금\n",
        "print(acc1.money)       # 현재 잔액 확인\n",
        "\n",
        "acc1.history()   # 거래내역 출력\n",
        "\n",
        "print(Account.get_account_num())  # 현재까지 생성된 계좌 개수"
      ],
      "metadata": {
        "colab": {
          "base_uri": "https://localhost:8080/"
        },
        "id": "e96ax7-Mo6x4",
        "outputId": "130785bb-3f59-405c-ec87-271da11abcd3"
      },
      "execution_count": 33,
      "outputs": [
        {
          "output_type": "stream",
          "name": "stdout",
          "text": [
            "[모두은행] 조은별 / 413-03-548903 / 잔액 1,000원\n",
            "1500\n",
            "2500\n",
            "2300\n",
            "2025-09-24 07:40:33 | 입금           |      500 | 잔액      1,500원\n",
            "2025-09-24 07:40:33 | 입금           |    1,000 | 잔액      2,500원\n",
            "2025-09-24 07:40:33 | 출금           |      200 | 잔액      2,300원\n",
            "3\n"
          ]
        }
      ]
    },
    {
      "cell_type": "code",
      "source": [
        "# 회고\n",
        "# 이슈의 흐름과 맥락을 먼저 살펴보고 전체적인 흐름을 파악한 후 챕터별 단계를 고려한\n",
        "# 입력- 처리 - 출력의 범위를 설계하는 점,  한국어로 문제 이해 및 입력- 처리- 출력 흐름 잡기,\n",
        "# 반복적이고 순환적 공부방법으로 코드를 구현해보고(for/ while 등) class 안의 함수들이\n",
        "# 잘 작동이 되는지 매번 확인함으로써 진도는 느리지만 정확히 공부하게 되어 학습에 도움이 되었다.\n",
        "# 함수를 정의하고 매번 확인한 후 다음 코드와의 연결을 고려하므로\n",
        "# 코드의 오류를 효율적으로 체크할 수 있음"
      ],
      "metadata": {
        "id": "vQmTAPqXn38o"
      },
      "execution_count": 24,
      "outputs": []
    }
  ]
}